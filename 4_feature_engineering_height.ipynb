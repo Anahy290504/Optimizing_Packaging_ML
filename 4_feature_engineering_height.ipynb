{
 "cells": [
  {
   "cell_type": "code",
   "execution_count": 13,
   "id": "27058db3-4760-49fd-8f8f-3440b6e1f862",
   "metadata": {},
   "outputs": [],
   "source": [
    "import pandas as pd\n",
    "\n",
    "# Load data (ensure to replace the path securely or use environment variables)\n",
    "#data = pd.read_csv(r'C:\\Users\\jpscw\\Documents\\EDA Anahy\\full_data_best_secret.csv')\n",
    "\n",
    "# Prompt the user to input the file path for the CSV file\n",
    "#file_path = input(\"Please enter the path to the CSV file: \")\n",
    "\n",
    "# Step 2: Load the CSV into a DataFrame\n",
    "#try:\n",
    "   # data = pd.read_csv(file_path)\n",
    "    #print(\"CSV file loaded successfully.\")\n",
    "#except Exception as e:\n",
    "    #print(f\"Error loading CSV file: {e}\")\n",
    "    #exit()  # Exit if the file cannot be loaded"
   ]
  },
  {
   "cell_type": "code",
   "execution_count": 14,
   "id": "122a79ad-373a-42b5-874d-0f439adfbff9",
   "metadata": {},
   "outputs": [],
   "source": [
    "# Filter the data to keep only rows where qty_items_sold == 1\n",
    "df_filtered = data[data['qty_items_sold'] == 1]\n",
    "\n",
    "# Group by 'order_code' and filter out groups with more than 1 row (i.e., keep single-item orders)\n",
    "df_single = df_filtered.groupby('order_code').filter(lambda x: len(x) == 1)"
   ]
  },
  {
   "cell_type": "code",
   "execution_count": 15,
   "id": "87c906f7-4eda-45f2-97f6-98f2a2881646",
   "metadata": {},
   "outputs": [],
   "source": [
    "def calculate_box_volumes(df):\n",
    "    df['width_in_millimeter'] = pd.to_numeric(df['width_in_millimeter'], errors='coerce')\n",
    "    df['length_in_millimeter'] = pd.to_numeric(df['length_in_millimeter'], errors='coerce')\n",
    "    df['height_in_millimeter'] = pd.to_numeric(df['height_in_millimeter'], errors='coerce')\n",
    "\n",
    "    # Calculate the volume for each row\n",
    "    df['volume_in_cubic_mm'] = df['width_in_millimeter'] * df['length_in_millimeter'] * df['height_in_millimeter']\n",
    "    \n",
    "    # Group by 'display_name' and calculate the mean for width, length, height, and volume\n",
    "    box_volumes = df.groupby('display_name').agg(\n",
    "        average_width_mm=('width_in_millimeter', 'mean'),\n",
    "        average_length_mm=('length_in_millimeter', 'mean'),\n",
    "        average_height_mm=('height_in_millimeter', 'mean'),\n",
    "        average_volume_cubic_mm=('volume_in_cubic_mm', 'mean')\n",
    "    ).reset_index()\n",
    "    \n",
    "    # Convert from cubic millimeters to cubic centimeters for more intuitive results\n",
    "    box_volumes['average_volume_cubic_cm'] = box_volumes['average_volume_cubic_mm'] / 1000  # 1 cm³ = 1000 mm³\n",
    "\n",
    "    # Sort the results for easier interpretation\n",
    "    box_volumes_sorted = box_volumes.sort_values(by='average_volume_cubic_cm', ascending=False).reset_index(drop=True)\n",
    "    \n",
    "    return box_volumes_sorted\n",
    "\n",
    "# Usage\n",
    "box_volumes_df = calculate_box_volumes(df_single)\n"
   ]
  },
  {
   "cell_type": "code",
   "execution_count": 16,
   "id": "5a00c76c-c159-4560-a84c-4312264cf1ba",
   "metadata": {},
   "outputs": [],
   "source": [
    "# Initialize a dictionary to store the maximum height for each unique item (defined by category and size)\n",
    "item_max_heights = {}\n",
    "\n",
    "# Step 1: Iterate over each row in the orders DataFrame\n",
    "for _, row in data.iterrows():\n",
    "    # Extract relevant columns: category, size, and box used (display_name)\n",
    "    item_category = row['product_navision_detail_category']\n",
    "    item_size = row['sap_main_size']\n",
    "    display_name = row['display_name']\n",
    "\n",
    "    # Skip rows where category, size, or display_name are missing\n",
    "    if pd.isna(item_category) or pd.isna(item_size) or pd.isna(display_name):\n",
    "        continue\n",
    "\n",
    "    # Define a unique key for each item based on category and size\n",
    "    item_key = (item_category, item_size)\n",
    "\n",
    "    # Filter the box data to find the corresponding box for this item\n",
    "    box_data = box_volumes_df[box_volumes_df['display_name'] == display_name]\n",
    "\n",
    "    # Check if box data exists for the display_name\n",
    "    if not box_data.empty:\n",
    "        # Get the smallest box by volume (based on the 'average_volume_cubic_cm' column)\n",
    "        smallest_box = box_data.nsmallest(1, 'average_volume_cubic_cm')\n",
    "\n",
    "        # Get the max dimension (max of width, length, height) from the smallest box\n",
    "        max_dimension = smallest_box[['average_width_mm', 'average_length_mm', 'average_height_mm']].max(axis=1).values[0]\n",
    "\n",
    "        # Update the dictionary with the maximum dimension for the item\n",
    "        if item_key in item_max_heights:\n",
    "            # Keep the maximum dimension if it is larger than the existing value\n",
    "            item_max_heights[item_key] = max(item_max_heights[item_key], max_dimension)\n",
    "        else:\n",
    "            item_max_heights[item_key] = max_dimension\n",
    "\n",
    "# Step 2: Create a DataFrame for the output dictionary\n",
    "output_data = []\n",
    "\n",
    "# Iterate over the unique item keys and their corresponding maximum heights\n",
    "for item_key, height in item_max_heights.items():\n",
    "    category, size = item_key\n",
    "    output_data.append({\n",
    "        'product_navision_detail_category': category,\n",
    "        'sap_main_size': size,\n",
    "        'opt_height': height\n",
    "    })\n",
    "\n",
    "# Convert the output data into a DataFrame\n",
    "output_df = pd.DataFrame(output_data)\n",
    "\n",
    "# Convert the output to a dictionary for further use (optional)\n",
    "output_dict = output_df.to_dict(orient='records')\n",
    "\n"
   ]
  },
  {
   "cell_type": "code",
   "execution_count": 18,
   "id": "7f125407-30a4-4ec9-8dc5-05f06e060f6e",
   "metadata": {},
   "outputs": [],
   "source": [
    "###IN CASE YOU PREFER TO WRITE WITH A JSON FILE\n",
    "#import json\n",
    "#with open('height_dict.json', 'w') as f:\n",
    "    #json.dump(output_dict, f)"
   ]
  },
  {
   "cell_type": "code",
   "execution_count": 19,
   "id": "b88a9230-2406-4658-b99c-578086550afc",
   "metadata": {},
   "outputs": [],
   "source": [
    "# Write the dictionary to a .py file with UTF-8 encoding\n",
    "with open('height_dict.py', 'w', encoding='utf-8') as f:\n",
    "    f.write('height_dict = ' + str(output_dict))"
   ]
  }
 ],
 "metadata": {
  "kernelspec": {
   "display_name": "Python 3 (ipykernel)",
   "language": "python",
   "name": "python3"
  },
  "language_info": {
   "codemirror_mode": {
    "name": "ipython",
    "version": 3
   },
   "file_extension": ".py",
   "mimetype": "text/x-python",
   "name": "python",
   "nbconvert_exporter": "python",
   "pygments_lexer": "ipython3",
   "version": "3.12.7"
  }
 },
 "nbformat": 4,
 "nbformat_minor": 5
}
