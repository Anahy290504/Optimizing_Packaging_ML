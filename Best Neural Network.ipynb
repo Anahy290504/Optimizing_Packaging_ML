{
 "cells": [
  {
   "cell_type": "code",
   "execution_count": 3,
   "id": "669e4e15-7a58-4738-b2b7-c0d2c77fba00",
   "metadata": {
    "tags": []
   },
   "outputs": [
    {
     "name": "stderr",
     "output_type": "stream",
     "text": [
      "2024-11-11 11:18:47.156494: I tensorflow/core/util/port.cc:153] oneDNN custom operations are on. You may see slightly different numerical results due to floating-point round-off errors from different computation orders. To turn them off, set the environment variable `TF_ENABLE_ONEDNN_OPTS=0`.\n",
      "2024-11-11 11:18:47.398005: E external/local_xla/xla/stream_executor/cuda/cuda_fft.cc:485] Unable to register cuFFT factory: Attempting to register factory for plugin cuFFT when one has already been registered\n",
      "2024-11-11 11:18:47.484513: E external/local_xla/xla/stream_executor/cuda/cuda_dnn.cc:8454] Unable to register cuDNN factory: Attempting to register factory for plugin cuDNN when one has already been registered\n",
      "2024-11-11 11:18:47.509901: E external/local_xla/xla/stream_executor/cuda/cuda_blas.cc:1452] Unable to register cuBLAS factory: Attempting to register factory for plugin cuBLAS when one has already been registered\n",
      "2024-11-11 11:18:47.713334: I tensorflow/core/platform/cpu_feature_guard.cc:210] This TensorFlow binary is optimized to use available CPU instructions in performance-critical operations.\n",
      "To enable the following instructions: AVX2 AVX512F AVX512_VNNI FMA, in other operations, rebuild TensorFlow with the appropriate compiler flags.\n",
      "2024-11-11 11:18:48.839894: W tensorflow/compiler/tf2tensorrt/utils/py_utils.cc:38] TF-TRT Warning: Could not find TensorRT\n"
     ]
    }
   ],
   "source": [
    "import numpy as np\n",
    "import pandas as pd\n",
    "from sklearn.model_selection import train_test_split\n",
    "from sklearn.preprocessing import LabelEncoder, StandardScaler\n",
    "from sklearn.metrics import confusion_matrix, classification_report\n",
    "from imblearn.over_sampling import SMOTE\n",
    "import tensorflow as tf\n",
    "from tensorflow.keras.models import Sequential\n",
    "from tensorflow.keras.layers import Dense, BatchNormalization, Dropout\n",
    "from tensorflow.keras.optimizers import Adam\n",
    "from tensorflow.keras.callbacks import EarlyStopping, ReduceLROnPlateau"
   ]
  },
  {
   "cell_type": "code",
   "execution_count": 2,
   "id": "7bf92022-c041-4d36-a5ff-99c8812c810c",
   "metadata": {
    "tags": []
   },
   "outputs": [],
   "source": [
    "df = pd.read_csv('data_for_models.csv', index_col=0)\n",
    "pd.set_option('display.max_columns', None)"
   ]
  },
  {
   "cell_type": "code",
   "execution_count": 4,
   "id": "2f8f7a89-ff76-42b9-a9c3-cedf0204f0e4",
   "metadata": {
    "tags": []
   },
   "outputs": [],
   "source": [
    "# Convert feature columns to numeric, handling non-numeric values and filling NaNs with 0\n",
    "X = df.drop(columns=['display_name']).apply(pd.to_numeric, errors='coerce').fillna(0).values\n",
    "\n",
    "# Extract target labels\n",
    "y = df['display_name'].values\n",
    "\n",
    "# Encode target labels into integers for classification\n",
    "label_encoder = LabelEncoder()\n",
    "y_encoded = label_encoder.fit_transform(y)"
   ]
  },
  {
   "cell_type": "code",
   "execution_count": 5,
   "id": "8b99d60a-1639-4f9c-b5af-8b38d92b477e",
   "metadata": {
    "tags": []
   },
   "outputs": [],
   "source": [
    "# Split the data into training and testing sets with stratified sampling to maintain class balance\n",
    "X_train, X_test, y_train, y_test = train_test_split(X, y_encoded, test_size=0.2, random_state=42, stratify=y_encoded)"
   ]
  },
  {
   "cell_type": "code",
   "execution_count": null,
   "id": "64698603-25f3-4e7c-9e37-b43d1d4f8455",
   "metadata": {
    "tags": []
   },
   "outputs": [],
   "source": [
    "# Apply SMOTE to balance the training dataset by oversampling the minority classes\n",
    "smote = SMOTE(random_state=42)\n",
    "X_train_resampled, y_train_resampled = smote.fit_resample(X_train, y_train)\n",
    "\n",
    "# Standardize the features in the training and test sets using StandardScaler\n",
    "scaler = StandardScaler()\n",
    "X_train_resampled = scaler.fit_transform(X_train_resampled)\n",
    "X_test = scaler.transform(X_test)\n",
    "\n",
    "# Convert the target labels to one-hot encoding for use in neural network models\n",
    "y_train_onehot = tf.keras.utils.to_categorical(y_train_resampled)\n",
    "y_test_onehot = tf.keras.utils.to_categorical(y_test)"
   ]
  },
  {
   "cell_type": "code",
   "execution_count": null,
   "id": "e48cb955-4047-46f4-862b-40f749acad6a",
   "metadata": {
    "tags": []
   },
   "outputs": [],
   "source": [
    "# Define and train a deep neural network model on the GPU\n",
    "with tf.device('/GPU:0'):\n",
    "    model = Sequential([\n",
    "        Dense(1024, activation='swish', input_shape=(X_train_resampled.shape[1],)),\n",
    "        BatchNormalization(),\n",
    "        Dropout(0.5),\n",
    "        Dense(512, activation='swish'),\n",
    "        BatchNormalization(),\n",
    "        Dropout(0.5),\n",
    "        Dense(256, activation='swish'),\n",
    "        BatchNormalization(),\n",
    "        Dropout(0.1),\n",
    "        Dense(132, activation='swish'),\n",
    "        BatchNormalization(),\n",
    "        Dropout(0.1),\n",
    "        Dense(64, activation='swish'),\n",
    "        BatchNormalization(),\n",
    "        Dropout(0.1),\n",
    "        Dense(32, activation='swish'),\n",
    "        BatchNormalization(),\n",
    "        Dropout(0.1),\n",
    "        Dense(16, activation='swish'),\n",
    "        BatchNormalization(),\n",
    "        Dropout(0.1),\n",
    "        Dense(y_train_onehot.shape[1], activation='softmax')  # Output layer with softmax activation for multi-class classification\n",
    "    ])\n",
    "\n",
    "# Compile the model with Adam optimizer, categorical crossentropy loss, and accuracy metric\n",
    "model.compile(optimizer=Adam(learning_rate=0.01), loss='categorical_crossentropy', metrics=['accuracy'])\n",
    "\n",
    "# Early stopping to prevent overfitting, with patience for 10 epochs and restoring best weights\n",
    "early_stopping = EarlyStopping(monitor='val_accuracy', patience=10, restore_best_weights=True)\n",
    "\n",
    "# Train the model using the resampled training data and validate on the test set\n",
    "history = model.fit(\n",
    "    X_train_resampled, y_train_onehot,\n",
    "    validation_data=(X_test, y_test_onehot),\n",
    "    epochs=100,\n",
    "    batch_size=512,\n",
    "    verbose=1,\n",
    "    callbacks=[early_stopping]\n",
    ")\n"
   ]
  },
  {
   "cell_type": "code",
   "execution_count": null,
   "id": "a98f69c5-5d00-4e8e-8354-f79e9e359fca",
   "metadata": {
    "tags": []
   },
   "outputs": [],
   "source": [
    "y_pred = model.predict(X_test)\n",
    "y_pred_classes = np.argmax(y_pred, axis=1)"
   ]
  },
  {
   "cell_type": "code",
   "execution_count": null,
   "id": "346e452d-bd30-48cc-9f14-00f6129e101a",
   "metadata": {
    "tags": []
   },
   "outputs": [],
   "source": [
    "conf_matrix = confusion_matrix(np.argmax(y_test_onehot, axis=1), y_pred_classes)\n",
    "print(\"Confusion Matrix:\")\n",
    "print(conf_matrix)"
   ]
  },
  {
   "cell_type": "code",
   "execution_count": 9,
   "id": "178ddac9-2e07-4dd1-97bc-ac193da8e74a",
   "metadata": {
    "tags": []
   },
   "outputs": [],
   "source": [
    "classification_report_text = classification_report(y_test, y_pred_classes, target_names=label_encoder.classes_)"
   ]
  },
  {
   "cell_type": "code",
   "execution_count": 10,
   "id": "2fcd29f2-4708-4d90-9c86-ffb447e61c54",
   "metadata": {
    "tags": []
   },
   "outputs": [
    {
     "name": "stdout",
     "output_type": "stream",
     "text": [
      "              precision    recall  f1-score   support\n",
      "\n",
      "        BS 1       0.63      0.67      0.65      7976\n",
      "        BS 2       0.46      0.30      0.36      4135\n",
      "        BS 3       0.52      0.62      0.56      3004\n",
      "        BS 4       0.46      0.43      0.44      2214\n",
      "        BS 5       0.11      0.40      0.17        45\n",
      "        BS 6       0.58      0.69      0.63       414\n",
      "        BS 8       0.63      0.55      0.58      2043\n",
      "     BS Mini       0.75      0.63      0.69      2615\n",
      "        Groß       0.58      0.57      0.57      4869\n",
      "       Klein       0.62      0.80      0.70      3316\n",
      "    Original       0.33      0.40      0.36         5\n",
      "\n",
      "    accuracy                           0.59     30636\n",
      "   macro avg       0.51      0.55      0.52     30636\n",
      "weighted avg       0.58      0.59      0.58     30636\n",
      "\n"
     ]
    }
   ],
   "source": [
    "print(classification_report_text)"
   ]
  }
 ],
 "metadata": {
  "kernelspec": {
   "display_name": "Python 3 (ipykernel)",
   "language": "python",
   "name": "python3"
  },
  "language_info": {
   "codemirror_mode": {
    "name": "ipython",
    "version": 3
   },
   "file_extension": ".py",
   "mimetype": "text/x-python",
   "name": "python",
   "nbconvert_exporter": "python",
   "pygments_lexer": "ipython3",
   "version": "3.12.4"
  }
 },
 "nbformat": 4,
 "nbformat_minor": 5
}
