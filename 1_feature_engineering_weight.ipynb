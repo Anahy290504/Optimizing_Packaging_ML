{
 "cells": [
  {
   "cell_type": "code",
   "execution_count": 21,
   "id": "4ee13da7-e143-404d-be4f-53c869475f00",
   "metadata": {
    "tags": []
   },
   "outputs": [],
   "source": [
    "import pandas as pd\n",
    "import numpy as np"
   ]
  },
  {
   "cell_type": "code",
   "execution_count": 22,
   "id": "751c2350-b3ee-4b4e-8745-8071867acfd5",
   "metadata": {
    "tags": []
   },
   "outputs": [],
   "source": [
    "# Set possibility, to see all columns\n",
    "pd.set_option('display.max_columns', None)"
   ]
  },
  {
   "cell_type": "code",
   "execution_count": 23,
   "id": "8cf23d78-c99c-40b3-a734-4e266f9313b5",
   "metadata": {
    "tags": []
   },
   "outputs": [],
   "source": [
    "# Load overall store data and weight data\n",
    "# the first df is a standard data from Best Secret \n",
    "# the second one containts the weight\n",
    "#Skip this part, if you have the info already combined\n",
    "\n",
    "df_overall = pd.read_csv('../../../data/raw/full_data_best_secret_new.csv', index_col=0)\n",
    "df_weight = pd.read_csv('../../../data/raw/package_weight_data.csv', index_col=0)"
   ]
  },
  {
   "cell_type": "code",
   "execution_count": 24,
   "id": "a966657d-ede5-400c-a899-b7504938bb57",
   "metadata": {},
   "outputs": [],
   "source": [
    "# Remove duplicate orders, keeping the first occurrence of each order_code\n",
    "df_unique = df_weight.drop_duplicates(subset=['order_code'], keep='first')"
   ]
  },
  {
   "cell_type": "code",
   "execution_count": 25,
   "id": "a96def70-4e6c-41c6-b935-688d6bd70d23",
   "metadata": {},
   "outputs": [],
   "source": [
    "# Filter for only necessary columns for analysis and feature engineering\n",
    "#Might be worth, revisiting this selection, but seemed to be most granular and commonly usable\n",
    "selected_columns = ['order_code', 'display_name', 'qty_items_sold', 'sap_main_size', 'product_navision_detail_category']\n",
    "new_df = df_overall[selected_columns]\n",
    "df = new_df"
   ]
  },
  {
   "cell_type": "code",
   "execution_count": 26,
   "id": "3bdda9b6-a3fa-4ab1-be12-9518b421695e",
   "metadata": {},
   "outputs": [],
   "source": [
    "# Merge the unique weights into the main DataFrame by order_code\n",
    "df_merged = df.merge(df_unique[['order_code', 'package_weight']], on='order_code', how='left')"
   ]
  },
  {
   "cell_type": "markdown",
   "id": "4c50012c-8527-4416-90bd-c8275471c6ce",
   "metadata": {},
   "source": [
    "Start here, if you have a combined data with normal columns and additional weight"
   ]
  },
  {
   "cell_type": "code",
   "execution_count": 27,
   "id": "49d147ca-1761-42ff-aee0-aeba685ee752",
   "metadata": {},
   "outputs": [],
   "source": [
    "# Replace any zero weights with NaN, signaling missing or invalid weight data\n",
    "df_merged['package_weight'] = df_merged['package_weight'].replace(0, np.nan)\n",
    "df = df_merged"
   ]
  },
  {
   "cell_type": "code",
   "execution_count": 28,
   "id": "1e88bb5c-0a17-4e2e-a257-9391aed54897",
   "metadata": {},
   "outputs": [],
   "source": [
    "# Filter to keep only orders with 15 or fewer rows\n",
    "# Process for predicting orders with more than 15 different items has to be discussed\n",
    "filtered_df = df.groupby('order_code').filter(lambda x: len(x) <= 15)"
   ]
  },
  {
   "cell_type": "code",
   "execution_count": 29,
   "id": "a75bc7d4-19dd-4486-a1b2-6be288ecae26",
   "metadata": {},
   "outputs": [],
   "source": [
    "# Flatten details of an order into a single row, allowing up to 15 items per order\n",
    "def flatten_order(group):\n",
    "    flattened = {}\n",
    "    flattened['package_weight'] = group['package_weight'].iloc[0]\n",
    "    for i in range(15):\n",
    "        if i < len(group):\n",
    "            row = group.iloc[i]\n",
    "            flattened[f'qty_items_sold_item_{i+1}'] = row['qty_items_sold']\n",
    "            flattened[f'sap_main_size_item_{i+1}'] = row['sap_main_size']\n",
    "            flattened[f'product_navision_detail_category_item_{i+1}'] = row['product_navision_detail_category']\n",
    "        else:\n",
    "            flattened[f'qty_items_sold_item_{i+1}'] = None\n",
    "            flattened[f'sap_main_size_item_{i+1}'] = None\n",
    "            flattened[f'product_navision_detail_category_item_{i+1}'] = None\n",
    "    return pd.Series(flattened)"
   ]
  },
  {
   "cell_type": "code",
   "execution_count": 30,
   "id": "6543bbe7-87a2-4281-960a-62903e0659e0",
   "metadata": {},
   "outputs": [],
   "source": [
    "# Apply flattening function to each order group\n",
    "df_grouped = filtered_df.groupby('order_code').apply(flatten_order).reset_index()"
   ]
  },
  {
   "cell_type": "code",
   "execution_count": 31,
   "id": "7e11860f-156a-4bec-bacd-d0c670d3f025",
   "metadata": {},
   "outputs": [],
   "source": [
    "# Merge display_name with flattened orders\n",
    "df_display_name = df.groupby('order_code')['display_name'].first().reset_index()\n",
    "final_df = pd.merge(df_display_name, df_grouped, on='order_code')"
   ]
  },
  {
   "cell_type": "code",
   "execution_count": 32,
   "id": "24ea1d19-9c1d-4697-8d35-816ae57d7478",
   "metadata": {},
   "outputs": [],
   "source": [
    "# Update main DataFrame to only contain flattened order details\n",
    "df = final_df"
   ]
  },
  {
   "cell_type": "code",
   "execution_count": 33,
   "id": "f0ccdf8e-52f6-4856-86a9-6f171560da16",
   "metadata": {
    "tags": []
   },
   "outputs": [],
   "source": [
    "def calculate_item_weights(row):\n",
    "    \"\"\"\n",
    "    This function distributes the total package weight across individual items \n",
    "    in an order according to the quantity of each item sold. By assigning weight \n",
    "    based on item quantity, it estimates the contribution of each item to the \n",
    "    overall package weight. \n",
    "    \"\"\"\n",
    "    total_qty = sum(\n",
    "        [row[f'qty_items_sold_item_{i+1}'] for i in range(15) if not pd.isna(row[f'qty_items_sold_item_{i+1}'])]\n",
    "    )\n",
    "    item_weights = {}\n",
    "    for i in range(15):\n",
    "        qty_column = f'qty_items_sold_item_{i+1}'\n",
    "        category_column = f'product_navision_detail_category_item_{i+1}'\n",
    "        if pd.notna(row[qty_column]) and pd.notna(row[category_column]):\n",
    "            item_qty = row[qty_column]\n",
    "            item_weight = (item_qty / total_qty) * row['package_weight'] if total_qty > 0 else 0\n",
    "            item_weights[(row[category_column], i+1)] = item_weight\n",
    "    return item_weights\n",
    "\n"
   ]
  },
  {
   "cell_type": "code",
   "execution_count": 34,
   "id": "5d0b8af0-08d6-46bc-951b-f2dd6d14e88e",
   "metadata": {},
   "outputs": [],
   "source": [
    "# Apply weight calculation function row-by-row\n",
    "all_item_weights = df.apply(calculate_item_weights, axis=1)"
   ]
  },
  {
   "cell_type": "code",
   "execution_count": 35,
   "id": "bfc90415-1bfa-47b1-911d-fed85f8bff47",
   "metadata": {},
   "outputs": [],
   "source": [
    "# Flatten weights into a structured list of dictionaries with category and weight\n",
    "flat_weights = []\n",
    "for item_dict in all_item_weights:\n",
    "    for (category, item_num), weight in item_dict.items():\n",
    "        flat_weights.append({'product_navision_detail_category': category, 'weight': weight})"
   ]
  },
  {
   "cell_type": "code",
   "execution_count": 36,
   "id": "8234e892-bccb-4320-95ce-95e172ce8218",
   "metadata": {},
   "outputs": [],
   "source": [
    "# Create a DataFrame of weights, then calculate the mean weight per product category\n",
    "weights_df = pd.DataFrame(flat_weights)\n",
    "avg_weight_by_category = weights_df.groupby('product_navision_detail_category')['weight'].mean().reset_index()"
   ]
  },
  {
   "cell_type": "code",
   "execution_count": 37,
   "id": "b0c96f53-16c1-4f46-b0e0-7adfc5ca7233",
   "metadata": {},
   "outputs": [],
   "source": [
    "# Convert the average weights by category to a dictionary for quick lookup\n",
    "weight_dict = avg_weight_by_category.set_index('product_navision_detail_category')['weight'].apply(lambda x: f\"{round(x, 2):.2f}\").to_dict()"
   ]
  },
  {
   "cell_type": "code",
   "execution_count": 38,
   "id": "d02c5cc2-efc1-479b-ad26-d354cbb19074",
   "metadata": {
    "tags": []
   },
   "outputs": [],
   "source": [
    "# Write the dictionary to a .py file with UTF-8 encoding\n",
    "with open('weight_dict.py', 'w', encoding='utf-8') as f:\n",
    "    f.write('weight_dict = ' + str(weight_dict))"
   ]
  }
 ],
 "metadata": {
  "kernelspec": {
   "display_name": "Python 3 (ipykernel)",
   "language": "python",
   "name": "python3"
  },
  "language_info": {
   "codemirror_mode": {
    "name": "ipython",
    "version": 3
   },
   "file_extension": ".py",
   "mimetype": "text/x-python",
   "name": "python",
   "nbconvert_exporter": "python",
   "pygments_lexer": "ipython3",
   "version": "3.12.7"
  }
 },
 "nbformat": 4,
 "nbformat_minor": 5
}
