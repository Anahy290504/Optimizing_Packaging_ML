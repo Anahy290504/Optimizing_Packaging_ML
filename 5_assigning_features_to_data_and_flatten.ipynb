{
 "cells": [
  {
   "cell_type": "code",
   "execution_count": null,
   "id": "4b04e1cf-12f6-4268-9833-6209b23a612a",
   "metadata": {
    "tags": []
   },
   "outputs": [],
   "source": [
    "import pandas as pd\n",
    "pd.set_option('display.max_columns', None)"
   ]
  },
  {
   "cell_type": "code",
   "execution_count": null,
   "id": "980186aa-0faf-465a-88af-1ada8a4214e6",
   "metadata": {
    "tags": []
   },
   "outputs": [],
   "source": [
    "#import all the engineered features as dicts\n",
    "from weight_dict import weight_dict\n",
    "from volume_dict import volume_dict\n",
    "from label_dict import label_dict\n",
    "from height_dict import height_dict"
   ]
  },
  {
   "cell_type": "code",
   "execution_count": 34,
   "id": "a1658a07-e909-436d-8dab-fa90456a3754",
   "metadata": {
    "tags": []
   },
   "outputs": [],
   "source": [
    "df = pd.read_csv('../../../data/raw/full_data_best_secret_new.csv', index_col=0)"
   ]
  },
  {
   "cell_type": "code",
   "execution_count": 35,
   "id": "39b26d78-8408-4fd6-8a57-4f14aa0a540a",
   "metadata": {
    "tags": []
   },
   "outputs": [],
   "source": [
    "#only retain the most meaningful columns\n",
    "df = df[['order_code', 'qty_items_sold', 'display_name', 'sap_main_size', 'product_navision_detail_category']]"
   ]
  },
  {
   "cell_type": "code",
   "execution_count": 36,
   "id": "dc6438c8-3653-41df-be93-061a529a52d6",
   "metadata": {
    "tags": []
   },
   "outputs": [],
   "source": [
    "#calculate the weight of the items by getting the weight per category and multiplicating by quantity\n",
    "df.loc[:, 'weight'] = df['product_navision_detail_category'].map(weight_dict).astype(float) * df['qty_items_sold']"
   ]
  },
  {
   "cell_type": "code",
   "execution_count": 37,
   "id": "92d77712-cefe-412f-a29f-13fd568636e8",
   "metadata": {
    "tags": []
   },
   "outputs": [],
   "source": [
    "#calculate the volume of the items by getting the volume per category and multiplicating by quantity\n",
    "df.loc[:, 'volume'] = df['product_navision_detail_category'].map(volume_dict) * df['qty_items_sold']"
   ]
  },
  {
   "cell_type": "code",
   "execution_count": 38,
   "id": "e35fb818-9b69-468a-ac1e-8c05ad5dfe9f",
   "metadata": {
    "tags": []
   },
   "outputs": [],
   "source": [
    "#assignign the texture per item\n",
    "df.loc[:, 'label'] = df['product_navision_detail_category'].map(label_dict)"
   ]
  },
  {
   "cell_type": "code",
   "execution_count": 39,
   "id": "d011d7a1-1a93-4690-9802-3c753a44edcb",
   "metadata": {
    "tags": []
   },
   "outputs": [],
   "source": [
    "#calculate the height of the items by getting the height per category and multiplicating by quantity\n",
    "height_lookup = {\n",
    "    (item['product_navision_detail_category'], item['sap_main_size']): item['opt_height']\n",
    "    for item in height_dict\n",
    "}\n",
    "\n",
    "def get_height(row):\n",
    "    key = (row['product_navision_detail_category'], row['sap_main_size'])\n",
    "    return height_lookup.get(key, None) * row['qty_items_sold'] if key in height_lookup else None\n",
    "\n",
    "df['height'] = df.apply(get_height, axis=1)"
   ]
  },
  {
   "cell_type": "code",
   "execution_count": 40,
   "id": "badcc307-51c9-42f1-ad32-58fee374f0c0",
   "metadata": {
    "tags": []
   },
   "outputs": [],
   "source": [
    "df['label'] = df['label'].notna()\n",
    "df['qty_items_sold'] = df['qty_items_sold'].fillna(0).astype(int)"
   ]
  },
  {
   "cell_type": "code",
   "execution_count": 41,
   "id": "87cce178-01b0-4ec5-89bf-684e1970c484",
   "metadata": {
    "tags": []
   },
   "outputs": [
    {
     "data": {
      "text/html": [
       "<div>\n",
       "<style scoped>\n",
       "    .dataframe tbody tr th:only-of-type {\n",
       "        vertical-align: middle;\n",
       "    }\n",
       "\n",
       "    .dataframe tbody tr th {\n",
       "        vertical-align: top;\n",
       "    }\n",
       "\n",
       "    .dataframe thead th {\n",
       "        text-align: right;\n",
       "    }\n",
       "</style>\n",
       "<table border=\"1\" class=\"dataframe\">\n",
       "  <thead>\n",
       "    <tr style=\"text-align: right;\">\n",
       "      <th></th>\n",
       "      <th>order_code</th>\n",
       "      <th>qty_items_sold</th>\n",
       "      <th>display_name</th>\n",
       "      <th>sap_main_size</th>\n",
       "      <th>product_navision_detail_category</th>\n",
       "      <th>weight</th>\n",
       "      <th>volume</th>\n",
       "      <th>label</th>\n",
       "      <th>height</th>\n",
       "    </tr>\n",
       "  </thead>\n",
       "  <tbody>\n",
       "    <tr>\n",
       "      <th>0</th>\n",
       "      <td>2117879653</td>\n",
       "      <td>1</td>\n",
       "      <td>BS 3</td>\n",
       "      <td>XS</td>\n",
       "      <td>funktionspolo o. a.</td>\n",
       "      <td>373.34</td>\n",
       "      <td>4412.50000</td>\n",
       "      <td>True</td>\n",
       "      <td>914.0</td>\n",
       "    </tr>\n",
       "    <tr>\n",
       "      <th>1</th>\n",
       "      <td>2117879653</td>\n",
       "      <td>1</td>\n",
       "      <td>BS 3</td>\n",
       "      <td>OS</td>\n",
       "      <td>armband</td>\n",
       "      <td>442.09</td>\n",
       "      <td>5807.20000</td>\n",
       "      <td>True</td>\n",
       "      <td>914.0</td>\n",
       "    </tr>\n",
       "    <tr>\n",
       "      <th>2</th>\n",
       "      <td>2117879653</td>\n",
       "      <td>1</td>\n",
       "      <td>BS 3</td>\n",
       "      <td>OS</td>\n",
       "      <td>besteck</td>\n",
       "      <td>434.66</td>\n",
       "      <td>34380.67500</td>\n",
       "      <td>True</td>\n",
       "      <td>914.0</td>\n",
       "    </tr>\n",
       "    <tr>\n",
       "      <th>3</th>\n",
       "      <td>2118084029</td>\n",
       "      <td>1</td>\n",
       "      <td>BS 2</td>\n",
       "      <td>OS</td>\n",
       "      <td>strandlaken</td>\n",
       "      <td>659.01</td>\n",
       "      <td>3661.16225</td>\n",
       "      <td>True</td>\n",
       "      <td>914.0</td>\n",
       "    </tr>\n",
       "    <tr>\n",
       "      <th>4</th>\n",
       "      <td>2118171889</td>\n",
       "      <td>1</td>\n",
       "      <td>BS 3</td>\n",
       "      <td>XL</td>\n",
       "      <td>t-shirt kurz</td>\n",
       "      <td>422.99</td>\n",
       "      <td>4412.50000</td>\n",
       "      <td>True</td>\n",
       "      <td>914.0</td>\n",
       "    </tr>\n",
       "  </tbody>\n",
       "</table>\n",
       "</div>"
      ],
      "text/plain": [
       "   order_code  qty_items_sold display_name sap_main_size  \\\n",
       "0  2117879653               1         BS 3            XS   \n",
       "1  2117879653               1         BS 3            OS   \n",
       "2  2117879653               1         BS 3            OS   \n",
       "3  2118084029               1         BS 2            OS   \n",
       "4  2118171889               1         BS 3            XL   \n",
       "\n",
       "  product_navision_detail_category  weight       volume  label  height  \n",
       "0             funktionspolo o. a.   373.34   4412.50000   True   914.0  \n",
       "1                          armband  442.09   5807.20000   True   914.0  \n",
       "2                          besteck  434.66  34380.67500   True   914.0  \n",
       "3                      strandlaken  659.01   3661.16225   True   914.0  \n",
       "4                     t-shirt kurz  422.99   4412.50000   True   914.0  "
      ]
     },
     "execution_count": 41,
     "metadata": {},
     "output_type": "execute_result"
    }
   ],
   "source": [
    "df.head(5)"
   ]
  },
  {
   "cell_type": "code",
   "execution_count": null,
   "id": "c6245352-dc43-4ab3-b0cc-d707c06c4c76",
   "metadata": {
    "tags": []
   },
   "outputs": [],
   "source": [
    "# Filters the dataset to retain only orders with 15 or fewer items by:\n",
    "# 1. Counting the occurrences of each `order_code`.\n",
    "# 2. Identifying valid orders with item counts less than or equal to 15.\n",
    "# 3. Creating a filtered DataFrame containing only these valid orders.\n",
    "order_counts = df['order_code'].value_counts()\n",
    "valid_orders = order_counts[order_counts <= 15].index\n",
    "filtered_df = df[df['order_code'].isin(valid_orders)]"
   ]
  },
  {
   "cell_type": "code",
   "execution_count": null,
   "id": "03d2e03b-3b90-4c2f-a1ac-4b2732fcc13f",
   "metadata": {
    "tags": []
   },
   "outputs": [],
   "source": [
    "# Transforms a grouped order into a flattened structure by:\n",
    "# 1. Iterating over a maximum of 15 items in the group.\n",
    "# 2. Extracting attributes for each item and assigning them to corresponding keys.\n",
    "# 3. Filling missing positions with `None` for orders with fewer than 15 items.\n",
    "# Returns a flattened representation of the order as a Pandas Series.\n",
    "\n",
    "def flatten_order(group):\n",
    "    flattened = {}\n",
    "    for i in range(15):\n",
    "        if i < len(group):\n",
    "            row = group.iloc[i]\n",
    "            flattened[f'qty_items_sold_item_{i+1}'] = row['qty_items_sold']\n",
    "            flattened[f'sap_main_size_item_{i+1}'] = row['sap_main_size']\n",
    "            flattened[f'product_navision_detail_category_item_{i+1}'] = row['product_navision_detail_category']\n",
    "            flattened[f'weight_item_{i+1}'] = row['weight']\n",
    "            flattened[f'volume_item_{i+1}'] = row['volume']\n",
    "            flattened[f'label_item_{i+1}'] = row['label']\n",
    "            flattened[f'height_item_{i+1}'] = row['height']\n",
    "        else:\n",
    "            flattened[f'qty_items_sold_item_{i+1}'] = None\n",
    "            flattened[f'sap_main_size_item_{i+1}'] = None\n",
    "            flattened[f'product_navision_detail_category_item_{i+1}'] = None\n",
    "            flattened[f'weight_item_{i+1}'] = None\n",
    "            flattened[f'volume_item_{i+1}'] = None\n",
    "            flattened[f'label_item_{i+1}'] = None\n",
    "            flattened[f'height_item_{i+1}'] = None\n",
    "    return pd.Series(flattened)"
   ]
  },
  {
   "cell_type": "code",
   "execution_count": null,
   "id": "a1f64cdf-2ab4-488b-9782-fff22753100a",
   "metadata": {
    "tags": []
   },
   "outputs": [],
   "source": [
    "# Creates the final structured DataFrame by:\n",
    "# 1. Grouping the filtered dataset by `order_code` and applying the `flatten_order` function to transform order data.\n",
    "# 2. Extracting the first `display_name` (i.e. the package size) for each order to retain order-level metadata.\n",
    "# 3. Merging the flattened order details with the `display_name` data on `order_code` for a comprehensive view.\n",
    "\n",
    "df_grouped = filtered_df.groupby('order_code').apply(flatten_order).reset_index()\n",
    "\n",
    "df_display_name = df.groupby('order_code')['display_name'].first().reset_index()\n",
    "\n",
    "final_df = pd.merge(df_display_name, df_grouped, on='order_code')"
   ]
  },
  {
   "cell_type": "code",
   "execution_count": 43,
   "id": "9cb46223-23a7-4fb9-8d14-b2895a9f2cbd",
   "metadata": {
    "tags": []
   },
   "outputs": [],
   "source": [
    "df = final_df"
   ]
  },
  {
   "cell_type": "code",
   "execution_count": 44,
   "id": "bd759b21-4633-4a16-b9c2-4b07bcc226c7",
   "metadata": {
    "tags": []
   },
   "outputs": [],
   "source": [
    "df.to_csv('data_for_models.csv', index=True)"
   ]
  }
 ],
 "metadata": {
  "kernelspec": {
   "display_name": "Python 3 (ipykernel)",
   "language": "python",
   "name": "python3"
  },
  "language_info": {
   "codemirror_mode": {
    "name": "ipython",
    "version": 3
   },
   "file_extension": ".py",
   "mimetype": "text/x-python",
   "name": "python",
   "nbconvert_exporter": "python",
   "pygments_lexer": "ipython3",
   "version": "3.12.4"
  }
 },
 "nbformat": 4,
 "nbformat_minor": 5
}
